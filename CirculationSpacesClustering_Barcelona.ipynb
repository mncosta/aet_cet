{
 "cells": [
  {
   "cell_type": "code",
   "execution_count": null,
   "metadata": {},
   "outputs": [],
   "source": [
    "import matplotlib.pyplot as plt\n",
    "import matplotlib.colors as colors\n",
    "import matplotlib.cm as cm\n",
    "import plotly.graph_objects as go\n",
    "import seaborn as sns\n",
    "import folium\n",
    "import branca\n",
    "from plot_init import setup_plotting\n",
    "setup_plotting()"
   ]
  },
  {
   "cell_type": "code",
   "execution_count": null,
   "metadata": {},
   "outputs": [],
   "source": [
    "import numpy as np\n",
    "from numpy.linalg import norm as norm\n",
    "from scipy.optimize import linear_sum_assignment\n",
    "import pandas as pd\n",
    "\n",
    "import os, sys\n",
    "from tqdm import trange, tqdm"
   ]
  },
  {
   "cell_type": "code",
   "execution_count": null,
   "metadata": {},
   "outputs": [],
   "source": [
    "# spectral clustering\n",
    "from numpy import unique\n",
    "from numpy import where\n",
    "from sklearn.datasets import make_classification\n",
    "from sklearn.cluster import SpectralClustering, KMeans, AgglomerativeClustering"
   ]
  },
  {
   "cell_type": "markdown",
   "metadata": {},
   "source": [
    "Add OSM POIs Ontology"
   ]
  },
  {
   "cell_type": "code",
   "execution_count": null,
   "metadata": {},
   "outputs": [],
   "source": [
    "sys.path.insert(0, '01.osm')\n",
    "from tags_custom import ontology"
   ]
  },
  {
   "cell_type": "markdown",
   "metadata": {},
   "source": [
    "Ontologize data using POIs Ontology scheme"
   ]
  },
  {
   "cell_type": "code",
   "execution_count": null,
   "metadata": {},
   "outputs": [],
   "source": [
    "def ontologize_pois(df):\n",
    "    # What categories there are?\n",
    "    categories = []\n",
    "    for category_I in ontology.keys():\n",
    "\n",
    "        for category_II in ontology[category_I].keys():\n",
    "            if type(ontology[category_I][category_II]) is dict:\n",
    "                for category_III in ontology[category_I][category_II].keys():\n",
    "                    if type(ontology[category_I][category_II][category_III]) is dict:\n",
    "                        for category_IV in ontology[category_I][category_II][category_III].keys():\n",
    "                            if type(ontology[category_I][category_II][category_III][category_IV]) is dict:\n",
    "                                categories.append(\n",
    "                                    category_I + ':' + category_II + ':' + category_III + ':' + category_IV)\n",
    "\n",
    "                            else:\n",
    "                                categories.append(\n",
    "                                    category_I + ':' + category_II + ':' + category_III + ':' + category_IV)\n",
    "                    else:\n",
    "                        categories.append(category_I + ':' + category_II + ':' + category_III)\n",
    "            else:\n",
    "                categories.append(category_I + ':' + category_II)\n",
    "\n",
    "    df_ontolized = pd.DataFrame(columns=categories)\n",
    "\n",
    "    # Ontologize the data\n",
    "\n",
    "    for category in categories:\n",
    "        cat = category.split(':')\n",
    "        try:\n",
    "            if len(cat) == 0:\n",
    "                pass\n",
    "            elif len(cat) == 1:\n",
    "                df_ontolized[category] = df[ontology[cat[0]]].sum(axis=1)\n",
    "            elif len(cat) == 2:\n",
    "                df_ontolized[category] = df[ontology[cat[0]][cat[1]]].sum(axis=1)\n",
    "            elif len(cat) == 3:\n",
    "                df_ontolized[category] = df[ontology[cat[0]][cat[1]][cat[2]]].sum(axis=1)\n",
    "            elif len(cat) == 4:\n",
    "                df_ontolized[category] = df[ontology[cat[0]][cat[1]][cat[2]][cat[3]]].sum(axis=1)\n",
    "        except KeyError:\n",
    "            continue\n",
    "\n",
    "    return df_ontolized"
   ]
  },
  {
   "cell_type": "markdown",
   "metadata": {},
   "source": [
    "Read OSM POIs data"
   ]
  },
  {
   "cell_type": "code",
   "execution_count": null,
   "metadata": {},
   "outputs": [],
   "source": [
    "def read_pois(ontologize=False, pois_directory=None, bbox_pois=None):\n",
    "    data_pois = {}\n",
    "\n",
    "    if type(bbox_pois) == list:\n",
    "        _BBOXES_POIs = bbox_pois\n",
    "    elif type(bbox_pois) == int:\n",
    "        if bbox_pois in _BBOXES:\n",
    "            _BBOXES_POIs = [bbox_pois]\n",
    "        else:\n",
    "            _BBOXES_POIs = _BBOXES\n",
    "\n",
    "    with tqdm(_BBOXES_POIs) as bbox_it:\n",
    "        for bbox in bbox_it:\n",
    "            bbox_it.set_description('Reading POIS ({})                 '.format(bbox))\n",
    "\n",
    "            data_pois[bbox] = pd.read_csv(os.path.join(pois_directory, 'pois_' + str(bbox) + '.csv')).fillna(0.0)\n",
    "            data_pois[bbox].pop('Unnamed: 0')\n",
    "            data_pois[bbox].pop('index')\n",
    "\n",
    "            if ontologize:\n",
    "                data_pois[bbox] = ontologize_pois(data_pois[bbox])\n",
    "\n",
    "    return data_pois"
   ]
  },
  {
   "cell_type": "code",
   "execution_count": null,
   "metadata": {},
   "outputs": [],
   "source": []
  },
  {
   "cell_type": "markdown",
   "metadata": {
    "tags": []
   },
   "source": [
    "# Barcelona Accidents"
   ]
  },
  {
   "cell_type": "markdown",
   "metadata": {
    "tags": []
   },
   "source": [
    "## POIs 10"
   ]
  },
  {
   "cell_type": "code",
   "execution_count": null,
   "metadata": {},
   "outputs": [],
   "source": [
    "_POIS_directory    = 'data/barcelona_2021/pois'\n",
    "_BBox_POIs = [10]\n",
    "_Use_Ontology = True\n",
    "\n",
    "data_pois = read_pois(ontologize=_Use_Ontology, pois_directory=_POIS_directory, bbox_pois=_BBox_POIs)"
   ]
  },
  {
   "cell_type": "markdown",
   "metadata": {},
   "source": [
    "Filter to circulation spaces"
   ]
  },
  {
   "cell_type": "code",
   "execution_count": null,
   "metadata": {},
   "outputs": [],
   "source": [
    "data = data_pois[10]\n",
    "data_circulation_spaces_10 = data.filter(regex='circulation_spaces:')\n",
    "data_circulation_spaces_10[data_circulation_spaces_10 > 0]=1"
   ]
  },
  {
   "cell_type": "code",
   "execution_count": null,
   "metadata": {},
   "outputs": [],
   "source": [
    "labels_circulation_spaces=[\n",
    "    'Cycleways            ',\n",
    "    'Cycleways SharedBus  ',\n",
    "    'Cycleways SharedLane ',\n",
    "    'Footways             ',\n",
    "    'Crossings (Footways)    ',\n",
    "    'Motorway       ',\n",
    "    'Primary        ',\n",
    "    'Secondary      ',\n",
    "    'Tertiary       ',\n",
    "    'Street         ',\n",
    "    'Other          ',\n",
    "    'Bridge         ',\n",
    "    'Public Transportation',\n",
    "    'Rail                 ',\n",
    "    'Subway          ']"
   ]
  },
  {
   "cell_type": "code",
   "execution_count": null,
   "metadata": {},
   "outputs": [],
   "source": [
    "fig = go.Figure(data=[\n",
    "    go.Bar(name=\"a\", \n",
    "           x=labels_circulation_spaces, \n",
    "           y=data_circulation_spaces_10.sum(),\n",
    "           marker_color=['lightgreen', 'lightgreen', 'lightgreen', \n",
    "                         'deepskyblue', 'deepskyblue', \n",
    "                         'wheat', 'wheat', 'wheat', 'wheat', 'wheat', 'wheat', 'wheat',\n",
    "                         'tomato', 'thistle', 'thistle'\n",
    "                         ],            \n",
    "           textposition='auto',\n",
    "           text=data_circulation_spaces_10.sum(),) \n",
    "])\n",
    "\n",
    "fig.update_layout(\n",
    "    title_text='Accident & Circuation Spaces', # title of plot\n",
    "    xaxis_title_text='Infrastructure Types', # xaxis label\n",
    "    yaxis_title_text='# of Accidents', # yaxis label\n",
    "    bargap=0.05, # gap between bars of adjacent location coordinates\n",
    "    bargroupgap=0.05, # gap between bars of the same location coordinates\n",
    "    font_family=\"Liberation Serif\",\n",
    "    \n",
    ")\n",
    "fig.show()"
   ]
  },
  {
   "cell_type": "markdown",
   "metadata": {},
   "source": [
    "### Clustering"
   ]
  },
  {
   "cell_type": "markdown",
   "metadata": {},
   "source": [
    "#### Spectral clustering"
   ]
  },
  {
   "cell_type": "code",
   "execution_count": null,
   "metadata": {},
   "outputs": [],
   "source": [
    "K = 10"
   ]
  },
  {
   "cell_type": "code",
   "execution_count": null,
   "metadata": {},
   "outputs": [],
   "source": [
    "X = data_circulation_spaces_10.to_numpy()\n",
    "\n",
    "model = SpectralClustering(n_clusters=K)\n",
    "\n",
    "yhat_10 = model.fit_predict(X)\n",
    "clusters = unique(yhat_10)"
   ]
  },
  {
   "cell_type": "code",
   "execution_count": null,
   "metadata": {},
   "outputs": [],
   "source": [
    "avg_spectral_clusters_10 = np.array([np.mean(X[yhat_10 == cluster_i], axis=0) for cluster_i in clusters])\n",
    "\n",
    "plt.figure(figsize=(20,10))\n",
    "figure = sns.heatmap(avg_spectral_clusters_10, annot=True, fmt='.3f', xticklabels=labels_circulation_spaces, vmax=2);\n",
    "figure = figure.get_figure()"
   ]
  },
  {
   "cell_type": "code",
   "execution_count": null,
   "metadata": {},
   "outputs": [],
   "source": [
    "figure.savefig(\"images/clustering_sp_barcelona_10.png\")"
   ]
  },
  {
   "cell_type": "markdown",
   "metadata": {},
   "source": [
    "Plot accidents and their clusters"
   ]
  },
  {
   "cell_type": "code",
   "execution_count": null,
   "metadata": {},
   "outputs": [],
   "source": [
    "_Accidents_file    = 'data/barcelona_2021/cycling_safety_barcelona_2021.csv'\n",
    "accidents = pd.read_csv(_Accidents_file)"
   ]
  },
  {
   "cell_type": "code",
   "execution_count": null,
   "metadata": {},
   "outputs": [],
   "source": [
    "df = pd.DataFrame([X[yhat_10 == cluster_i].shape[0] for cluster_i in clusters])\n",
    "fig = go.Figure(data=[\n",
    "    go.Bar(name='aaa', \n",
    "           x=df.index, \n",
    "           y=df[0],\n",
    "           marker_color='crimson',\n",
    "           textposition='auto',\n",
    "           text=df[0])  \n",
    "])\n",
    "fig.update_layout(barmode='stack',\n",
    "                  title_text='[Spectral Clustering] Samples per cluster',\n",
    "                  xaxis=dict(\n",
    "                      title='Cluster',\n",
    "                      tickfont_size=14,\n",
    "                      showticklabels=True,\n",
    "                      tickmode = 'linear',),\n",
    "                  yaxis=dict(\n",
    "                      title='# of Samples',\n",
    "                      titlefont_size=16,\n",
    "                      tickfont_size=14,),\n",
    "                  font_family=\"Arial\",\n",
    "                 )\n",
    "\n",
    "fig.show()"
   ]
  },
  {
   "cell_type": "code",
   "execution_count": null,
   "metadata": {},
   "outputs": [],
   "source": [
    "cluster_i = 3\n",
    "marker_colors = ['red', 'blue', 'green', 'purple', 'orange', 'darkred', 'lightred', 'beige', 'darkblue', 'darkgreen', 'cadetblue', 'darkpurple', 'white', 'pink', 'lightblue', 'lightgreen', 'gray', 'black', 'lightgray']\n",
    "\n",
    "m = folium.Map(location=[accidents['Latitude'].mean(), \n",
    "                         accidents['Longitude'].mean()], \n",
    "               zoom_start=12, tiles='OpenStreetMap')\n",
    "\n",
    "for cluster_i in clusters:\n",
    "    df = pd.DataFrame(\n",
    "        {\n",
    "            'lat':            accidents[yhat_10 == cluster_i]['Latitude'],\n",
    "            'lon':            accidents[yhat_10 == cluster_i]['Longitude'],\n",
    "            'marker_color' :  marker_colors[cluster_i],\n",
    "            'marker_color1' : accidents[yhat_10 == cluster_i].index,\n",
    "            #'index':          X_train[:5000, 12],\n",
    "        }\n",
    "    )\n",
    "\n",
    "    df.apply(lambda row: folium.Circle(location=[row[\"lat\"], \n",
    "                                                 row[\"lon\"]],\n",
    "                                             radius=25, \n",
    "                                             fill_color=row['marker_color'],\n",
    "                                             color=row['marker_color'],\n",
    "                                             tooltip=row['marker_color1'], \n",
    "                                             popup='{}, {}'.format(row[\"lat\"], row[\"lon\"]),\n",
    "                                            ).add_to(m), axis=1)\n",
    "\n",
    "m"
   ]
  },
  {
   "cell_type": "markdown",
   "metadata": {},
   "source": [
    "#### k-Means"
   ]
  },
  {
   "cell_type": "code",
   "execution_count": null,
   "metadata": {},
   "outputs": [],
   "source": [
    "kmeans = KMeans(n_clusters=K)\n",
    "yhat = kmeans.fit_predict(X)\n",
    "clusters = unique(yhat)"
   ]
  },
  {
   "cell_type": "code",
   "execution_count": null,
   "metadata": {},
   "outputs": [],
   "source": [
    "avg_kmean_clusters = np.array([np.mean(X[yhat == cluster_i], axis=0) for cluster_i in clusters])\n",
    "\n",
    "plt.figure(figsize=(20,10))\n",
    "sns.heatmap(avg_kmean_clusters, annot=True, fmt='.3f', xticklabels=labels_circulation_spaces, vmax=1);"
   ]
  },
  {
   "cell_type": "code",
   "execution_count": null,
   "metadata": {},
   "outputs": [],
   "source": [
    "df = pd.DataFrame([X[yhat == cluster_i].shape[0] for cluster_i in clusters])\n",
    "fig = go.Figure(data=[\n",
    "    go.Bar(name='aaa', \n",
    "           x=df.index, \n",
    "           y=df[0],\n",
    "           marker_color='crimson',\n",
    "           textposition='auto',\n",
    "           text=df[0])  \n",
    "])\n",
    "fig.update_layout(barmode='stack',\n",
    "                  title_text='[k-Means] Samples per cluster',\n",
    "                  xaxis=dict(\n",
    "                      title='Cluster',\n",
    "                      tickfont_size=14,\n",
    "                      showticklabels=True,\n",
    "                      tickmode = 'linear',),\n",
    "                  yaxis=dict(\n",
    "                      title='# of Samples',\n",
    "                      titlefont_size=16,\n",
    "                      tickfont_size=14,),\n",
    "                  font_family=\"Arial\",\n",
    "                 )\n",
    "\n",
    "fig.show()"
   ]
  },
  {
   "cell_type": "markdown",
   "metadata": {},
   "source": [
    "#### Hierarchical Clustering"
   ]
  },
  {
   "cell_type": "code",
   "execution_count": null,
   "metadata": {},
   "outputs": [],
   "source": [
    "Agg_hc = AgglomerativeClustering(n_clusters = 10, affinity = 'euclidean', linkage = 'ward')\n",
    "yhat = Agg_hc.fit_predict(X)\n",
    "clusters = unique(yhat)"
   ]
  },
  {
   "cell_type": "code",
   "execution_count": null,
   "metadata": {},
   "outputs": [],
   "source": [
    "avg_hierarchical_clusters = np.array([np.mean(X[yhat == cluster_i], axis=0) for cluster_i in clusters])\n",
    "\n",
    "plt.figure(figsize=(20,10))\n",
    "sns.heatmap(avg_hierarchical_clusters, annot=True, fmt='.3f', xticklabels=labels_circulation_spaces, vmax=1);"
   ]
  },
  {
   "cell_type": "code",
   "execution_count": null,
   "metadata": {},
   "outputs": [],
   "source": [
    "df = pd.DataFrame([X[yhat == cluster_i].shape[0] for cluster_i in clusters])\n",
    "fig = go.Figure(data=[\n",
    "    go.Bar(name='aaa', \n",
    "           x=df.index, \n",
    "           y=df[0],\n",
    "           marker_color='crimson',\n",
    "           textposition='auto',\n",
    "           text=df[0])  \n",
    "])\n",
    "fig.update_layout(barmode='stack',\n",
    "                  title_text='[Hierarchical Clustering] Samples per cluster',\n",
    "                  xaxis=dict(\n",
    "                      title='Cluster',\n",
    "                      tickfont_size=14,\n",
    "                      showticklabels=True,\n",
    "                      tickmode = 'linear',),\n",
    "                  yaxis=dict(\n",
    "                      title='# of Samples',\n",
    "                      titlefont_size=16,\n",
    "                      tickfont_size=14,),\n",
    "                  font_family=\"Arial\",\n",
    "                 )\n",
    "\n",
    "fig.show()"
   ]
  },
  {
   "cell_type": "markdown",
   "metadata": {},
   "source": [
    "#### Spectral Clustering vs. k-Means"
   ]
  },
  {
   "cell_type": "code",
   "execution_count": null,
   "metadata": {},
   "outputs": [],
   "source": [
    "fig = plt.figure(figsize=(20,10))\n",
    "\n",
    "plt.subplot(1, 2, 1)\n",
    "sns.heatmap(avg_spectral_clusters, annot=True, fmt='.3f', xticklabels=nnmf_labels, vmax=1);\n",
    "\n",
    "plt.subplot(1, 2, 2)\n",
    "sns.heatmap(avg_kmean_clusters, annot=True, fmt='.3f', xticklabels=nnmf_labels, vmax=1);\n",
    "\n",
    "\n"
   ]
  },
  {
   "cell_type": "code",
   "execution_count": null,
   "metadata": {},
   "outputs": [],
   "source": []
  },
  {
   "cell_type": "code",
   "execution_count": null,
   "metadata": {},
   "outputs": [],
   "source": []
  },
  {
   "cell_type": "markdown",
   "metadata": {
    "tags": []
   },
   "source": [
    "### POIs 25"
   ]
  },
  {
   "cell_type": "code",
   "execution_count": null,
   "metadata": {},
   "outputs": [],
   "source": [
    "_POIS_directory = 'data/barcelona_2021/pois'\n",
    "_BBox_POIs = [25]\n",
    "_Use_Ontology = True\n",
    "\n",
    "data_pois = read_pois(ontologize=_Use_Ontology, pois_directory=_POIS_directory, bbox_pois=_BBox_POIs)"
   ]
  },
  {
   "cell_type": "code",
   "execution_count": null,
   "metadata": {},
   "outputs": [],
   "source": [
    "data = data_pois[25]\n",
    "df_circulation_spaces_25 = data.filter(regex='circulation_spaces:')\n",
    "df_circulation_spaces_25[df_circulation_spaces_25 > 0]=1"
   ]
  },
  {
   "cell_type": "code",
   "execution_count": null,
   "metadata": {},
   "outputs": [],
   "source": [
    "nnmf_labels = ['Crossings',\n",
    "               'Subway',\n",
    "               'Rail',\n",
    "               'Tertiary & Footways',\n",
    "               'Primary & PT',\n",
    "               'Street',\n",
    "               'Secondary',\n",
    "               'Motorway',\n",
    "               'Footways',\n",
    "               'CyclingSharedLane & Footways'\n",
    "              ]"
   ]
  },
  {
   "cell_type": "markdown",
   "metadata": {},
   "source": [
    "#### Spectral clustering"
   ]
  },
  {
   "cell_type": "code",
   "execution_count": null,
   "metadata": {},
   "outputs": [],
   "source": [
    "X = df_circulation_spaces_25.to_numpy()\n",
    "\n",
    "model = SpectralClustering(n_clusters=K)\n",
    "\n",
    "yhat_25 = model.fit_predict(X)\n",
    "clusters = unique(yhat_25)"
   ]
  },
  {
   "cell_type": "code",
   "execution_count": null,
   "metadata": {},
   "outputs": [],
   "source": [
    "mean_clusters_25 = np.array([np.mean(X[yhat_25 == cluster_i], axis=0) for cluster_i in clusters])\n",
    "\n",
    "plt.figure(figsize=(20,10))\n",
    "theilsu_fig = sns.heatmap(mean_clusters_25, annot=True, fmt='.3f', xticklabels=labels_circulation_spaces, vmax=2.)\n",
    "plt.xticks(rotation=45)\n",
    "figure = theilsu_fig.get_figure()"
   ]
  },
  {
   "cell_type": "code",
   "execution_count": null,
   "metadata": {},
   "outputs": [],
   "source": [
    "figure.savefig(\"images/clustering_sp_barcelona_25.png\")"
   ]
  },
  {
   "cell_type": "code",
   "execution_count": null,
   "metadata": {},
   "outputs": [],
   "source": [
    "df = pd.DataFrame([X[yhat_25 == cluster_i].shape[0] for cluster_i in clusters])\n",
    "fig = go.Figure(data=[\n",
    "    go.Bar(name='aaa', \n",
    "           x=df.index, \n",
    "           y=df[0],\n",
    "           marker_color='crimson',\n",
    "           textposition='auto',\n",
    "           text=df[0])  \n",
    "])\n",
    "fig.update_layout(barmode='stack',\n",
    "                  title_text='[Spectral Clustering] Samples per cluster',\n",
    "                  xaxis=dict(\n",
    "                      title='Cluster',\n",
    "                      tickfont_size=14,\n",
    "                      showticklabels=True,\n",
    "                      tickmode = 'linear',),\n",
    "                  yaxis=dict(\n",
    "                      title='# of Samples',\n",
    "                      titlefont_size=16,\n",
    "                      tickfont_size=14,),\n",
    "                  font_family=\"Arial\",\n",
    "                 )\n",
    "\n",
    "fig.show()"
   ]
  },
  {
   "cell_type": "markdown",
   "metadata": {
    "tags": []
   },
   "source": [
    "Mapping of Accident Environment Types"
   ]
  },
  {
   "cell_type": "code",
   "execution_count": null,
   "metadata": {},
   "outputs": [],
   "source": [
    "marker_colors = ['red', 'blue', 'green', 'purple', 'orange', 'darkred', 'lightred', 'beige', 'darkblue', 'darkgreen', 'cadetblue', 'darkpurple', 'white', 'pink', 'lightblue', 'lightgreen', 'gray', 'black', 'lightgray']\n",
    "\n",
    "m = folium.Map(location=[accidents['Latitude'].mean(), \n",
    "                         accidents['Longitude'].mean()], \n",
    "               zoom_start=12, tiles='OpenStreetMap')\n",
    "\n",
    "for cluster_i in clusters:\n",
    "    df = pd.DataFrame(\n",
    "        {\n",
    "            'lat':            accidents[yhat_25 == cluster_i]['Latitude'],\n",
    "            'lon':            accidents[yhat_25 == cluster_i]['Longitude'],\n",
    "            'marker_color' :  marker_colors[cluster_i],\n",
    "            'marker_color1' : accidents[yhat_25 == cluster_i].index,\n",
    "            #'index':          X_train[:5000, 12],\n",
    "        }\n",
    "    )\n",
    "\n",
    "    df.apply(lambda row: folium.Circle(location=[row[\"lat\"], \n",
    "                                                 row[\"lon\"]],\n",
    "                                             radius=20, \n",
    "                                             fill_color=row['marker_color'],\n",
    "                                             color=row['marker_color'],\n",
    "                                             tooltip='Cluster: '+str(cluster_i)+'\\nIndex:'+str(row['marker_color1']), \n",
    "                                             popup='{}, {}'.format(row[\"lat\"], row[\"lon\"]),\n",
    "\n",
    "                                            ).add_to(m), axis=1)\n",
    "\n",
    "m"
   ]
  },
  {
   "cell_type": "markdown",
   "metadata": {},
   "source": [
    "# Barcelona City (Random Sampling)"
   ]
  },
  {
   "cell_type": "code",
   "execution_count": null,
   "metadata": {},
   "outputs": [],
   "source": [
    "_POIS_directory    = 'data/barcelona_rs/pois'\n",
    "_BBox_POIs = [10, 25]\n",
    "_Use_Ontology = True\n",
    "\n",
    "data_pois = read_pois(ontologize=_Use_Ontology, pois_directory=_POIS_directory, bbox_pois=_BBox_POIs)"
   ]
  },
  {
   "cell_type": "markdown",
   "metadata": {},
   "source": [
    "Filter to circulation spaces"
   ]
  },
  {
   "cell_type": "markdown",
   "metadata": {},
   "source": [
    "## POIs 25"
   ]
  },
  {
   "cell_type": "code",
   "execution_count": null,
   "metadata": {},
   "outputs": [],
   "source": [
    "data_circulation_spaces_RS25"
   ]
  },
  {
   "cell_type": "code",
   "execution_count": null,
   "metadata": {},
   "outputs": [],
   "source": [
    "data = data_pois[25]\n",
    "data_circulation_spaces_RS25 = data.filter(regex='circulation_spaces:')\n",
    "data_circulation_spaces_RS25 = data_circulation_spaces_RS25.fillna(0)\n",
    "data_circulation_spaces_RS25[data_circulation_spaces_RS25 > 0]=1"
   ]
  },
  {
   "cell_type": "markdown",
   "metadata": {},
   "source": [
    "### Clustering"
   ]
  },
  {
   "cell_type": "markdown",
   "metadata": {},
   "source": [
    "#### Spectral clustering"
   ]
  },
  {
   "cell_type": "code",
   "execution_count": null,
   "metadata": {},
   "outputs": [],
   "source": [
    "X = data_circulation_spaces_RS25.to_numpy()\n",
    "\n",
    "model = SpectralClustering(n_clusters=K)\n",
    "\n",
    "yhat_RS25 = model.fit_predict(X)\n",
    "clusters = unique(yhat_RS25)"
   ]
  },
  {
   "cell_type": "code",
   "execution_count": null,
   "metadata": {},
   "outputs": [],
   "source": [
    "avg_spectral_clusters_rs25 = np.array([np.mean(X[yhat_RS25 == cluster_i], axis=0) for cluster_i in clusters])\n",
    "\n",
    "plt.figure(figsize=(20,10))\n",
    "theilsu_fig = sns.heatmap(avg_spectral_clusters_rs25, annot=True, fmt='.3f', xticklabels=labels_circulation_spaces, vmax=2);\n",
    "plt.xticks(rotation=45)\n",
    "figure = theilsu_fig.get_figure()"
   ]
  },
  {
   "cell_type": "code",
   "execution_count": null,
   "metadata": {},
   "outputs": [],
   "source": [
    "figure.savefig(\"images/clustering_sp_barcelonaRS_25.png\")"
   ]
  },
  {
   "cell_type": "markdown",
   "metadata": {
    "tags": []
   },
   "source": [
    "# Comparing Accident Environment Types to city Environment Types"
   ]
  },
  {
   "cell_type": "markdown",
   "metadata": {},
   "source": [
    "## Cost matrix"
   ]
  },
  {
   "cell_type": "code",
   "execution_count": null,
   "metadata": {},
   "outputs": [],
   "source": [
    "c = list()\n",
    "for i in range(10):\n",
    "    b = list()\n",
    "    for j in range(10):\n",
    "        a = norm([mean_clusters_25[i, :] - avg_spectral_clusters_rs25[j, :]])\n",
    "        b.append(a)\n",
    "    c.append(b)\n",
    "\n",
    "C = np.array(c)"
   ]
  },
  {
   "cell_type": "markdown",
   "metadata": {},
   "source": [
    "### Find the match between AET & CET (using hungarian method)"
   ]
  },
  {
   "cell_type": "code",
   "execution_count": null,
   "metadata": {},
   "outputs": [],
   "source": [
    "row_ind, col_ind = linear_sum_assignment(C)"
   ]
  },
  {
   "cell_type": "code",
   "execution_count": null,
   "metadata": {},
   "outputs": [],
   "source": [
    "print('AET:', row_ind)\n",
    "print('CET:', col_ind)"
   ]
  },
  {
   "cell_type": "code",
   "execution_count": null,
   "metadata": {},
   "outputs": [],
   "source": [
    "fig, axes = plt.subplots(1, 2, figsize=(20, 6), sharey=True)\n",
    "\n",
    "fig.suptitle('Horizontally stacked subplots')\n",
    "\n",
    "sns.heatmap(mean_clusters_25, annot=True, fmt='.2f', xticklabels=labels_circulation_spaces, vmax=1., ax=axes[0], )\n",
    "axes[0].set_title('Accident Environment Types')\n",
    "\n",
    "sns.heatmap(avg_spectral_clusters_rs25[col_ind, :], annot=True, fmt='.2f', xticklabels=labels_circulation_spaces, vmax=1., ax=axes[1], )\n",
    "axes[1].set_title('City Environment Types')\n"
   ]
  },
  {
   "cell_type": "markdown",
   "metadata": {},
   "source": [
    "If we sort by cost"
   ]
  },
  {
   "cell_type": "code",
   "execution_count": null,
   "metadata": {},
   "outputs": [],
   "source": [
    "sorted_cost = np.argsort(C[row_ind, col_ind])\n",
    "print('Sorted Cost:', np.sort(C[row_ind, col_ind]))\n",
    "print(sorted_cost)"
   ]
  },
  {
   "cell_type": "code",
   "execution_count": null,
   "metadata": {},
   "outputs": [],
   "source": [
    "POIS25 = mean_clusters_25[sorted_cost, :]\n",
    "RS25   = avg_spectral_clusters_rs25"
   ]
  },
  {
   "cell_type": "code",
   "execution_count": null,
   "metadata": {},
   "outputs": [],
   "source": [
    "c = list()\n",
    "for i in range(10):\n",
    "    b = list()\n",
    "    for j in range(10):\n",
    "        a = norm([POIS25[i, :] - RS25[j, :]])\n",
    "        b.append(a)\n",
    "    c.append(b)\n",
    "\n",
    "C = np.array(c)"
   ]
  },
  {
   "cell_type": "code",
   "execution_count": null,
   "metadata": {},
   "outputs": [],
   "source": [
    "row_ind, col_ind = linear_sum_assignment(C)"
   ]
  },
  {
   "cell_type": "code",
   "execution_count": null,
   "metadata": {},
   "outputs": [],
   "source": [
    "print('AET:', row_ind)\n",
    "print('CET:', col_ind)"
   ]
  },
  {
   "cell_type": "code",
   "execution_count": null,
   "metadata": {},
   "outputs": [],
   "source": []
  },
  {
   "cell_type": "code",
   "execution_count": null,
   "metadata": {},
   "outputs": [],
   "source": [
    "fig, axes = plt.subplots(1, 2, figsize=(20, 6), sharey=True)\n",
    "sns.set(font_scale = .8)\n",
    "\n",
    "fig.suptitle('Horizontally stacked subplots')\n",
    "\n",
    "sns.heatmap(POIS25, annot=True, fmt='.2f', xticklabels=labels_circulation_spaces, vmax=1., ax=axes[0], cmap='viridis')\n",
    "axes[0].set_title('Accident Environment Types')\n",
    "axes[0].set_xticklabels(labels_circulation_spaces, fontsize=14,)\n",
    "axes[0].set_yticklabels([i for i in range(0,10)], fontsize=14,)\n",
    "\n",
    "sns.heatmap(RS25[col_ind, :], annot=True, fmt='.2f', xticklabels=labels_circulation_spaces, vmax=1., ax=axes[1], cmap='viridis')\n",
    "axes[1].set_title('City Environment Types')\n",
    "axes[1].set_xticklabels(labels_circulation_spaces, fontsize=14,)\n",
    "axes[1].set_yticklabels([i for i in range(0,10)], fontsize=14,)"
   ]
  },
  {
   "cell_type": "markdown",
   "metadata": {},
   "source": [
    "# For the ICSC abstract"
   ]
  },
  {
   "cell_type": "code",
   "execution_count": null,
   "metadata": {},
   "outputs": [],
   "source": [
    "aa = np.array([[0.00, 0.08, 1.00, 1.00, 0.95, 0.15, 0.12, 0.04, 0.27, 0.99, 0.00, 0.00, 0.06, 0.04, 0.17],\n",
    "               [0.00, 0.00, 0.01, 1.00, 0.00, 0.00, 0.08, 0.01, 0.35, 0.00, 0.01, 0.00, 0.06, 0.06, 0.09],\n",
    "               [0.01, 0.00, 0.00, 0.99, 1.00, 0.00, 0.06, 0.13, 0.00, 0.95, 0.00, 0.00, 0.02, 0.10, 0.00],\n",
    "               [0.00, 0.00, 0.00, 1.00, 0.79, 0.13, 1.00, 0.10, 0.10, 0.09, 0.01, 0.00, 0.09, 0.52, 0.46],\n",
    "               [0.00, 0.00, 0.01, 1.00, 0.75, 0.00, 0.06, 1.00, 0.19, 0.00, 0.01, 0.00, 0.08, 0.09, 0.00],\n",
    "               [0.00, 0.00, 0.01, 1.00, 1.00, 0.01, 0.04, 0.03, 1.00, 0.43, 0.00, 0.00, 0.07, 0.15, 0.09],\n",
    "               [0.10, 0.00, 0.02, 0.98, 0.64, 1.00, 0.12, 0.27, 0.26, 0.32, 0.00, 0.00, 0.09, 0.03, 0.25],\n",
    "               [0.00, 0.00, 0.00, 0.00, 0.00, 0.08, 0.01, 0.01, 0.01, 0.00, 0.00, 0.00, 0.00, 0.02, 0.02],\n",
    "               [0.01, 0.00, 0.07, 0.89, 0.00, 0.07, 0.03, 0.03, 0.02, 1.00, 0.00, 0.00, 0.02, 0.05, 0.07],\n",
    "               [0.00, 0.04, 0.01, 1.00, 0.88, 0.02, 0.03, 0.48, 0.25, 0.65, 0.00, 0.00, 0.09, 0.09, 1.00]],)\n",
    "\n",
    "bb = np.array([[0.00, 0.00, 1.00, 0.99, 0.75, 0.09, 0.05, 0.03, 0.11, 1.00, 0.00, 0.00, 0.03, 0.01, 0.04],\n",
    "               [0.00, 0.00, 0.00, 0.98, 0.00, 0.00, 0.06, 0.13, 0.00, 0.00, 0.02, 0.00, 0.02, 0.03, 0.01],\n",
    "               [0.00, 0.00, 0.00, 0.92, 0.58, 0.01, 0.04, 0.06, 0.01, 0.98, 0.01, 0.00, 0.03, 0.04, 0.05],\n",
    "               [0.00, 0.00, 0.02, 1.00, 0.77, 0.28, 0.99, 0.08, 0.07, 0.29, 0.00, 0.00, 0.14, 0.34, 0.91],\n",
    "               [0.00, 0.00, 0.00, 1.00, 0.84, 0.18, 0.05, 1.00, 0.21, 0.15, 0.0+0, 0.00, 0.09, 0.14, 0.49],\n",
    "               [0.00, 0.00, 0.02, 0.98, 0.50, 0.00, 0.06, 0.02, 1.00, 0.00, 0.01, 0.00, 0.12, 0.13, 0.12],\n",
    "               [0.00, 0.00, 0.01, 0.99, 0.49, 1.00, 0.04, 0.09, 1.00, 0.00, 0.01, 0.00, 0.07, 0.06, 0.13],\n",
    "               [0.00, 0.00, 0.00, 0.00, 0.00, 1.00, 0.01, 0.06, 0.02, 0.01, 0.01, 0.00, 0.00, 0.15, 0.01],\n",
    "               [0.00, 0.00, 0.01, 1.00, 0.44, 1.00, 0.07, 0.11, 0.03, 0.54, 0.01, 0.00, 0.04, 0.05, 0.04],\n",
    "               [0.01, 0.03, 0.04, 1.00, 0.99, 0.18, 0.04, 0.05, 1.00, 1.00, 0.00, 0.00, 0.07, 0.10, 0.24]],)"
   ]
  },
  {
   "cell_type": "code",
   "execution_count": null,
   "metadata": {},
   "outputs": [],
   "source": [
    "labels_circulation_spaces=[\n",
    "    'Cycleways',\n",
    "    'PT Shr. Cycleways ',\n",
    "    'Shr. Cycleways',\n",
    "    'Footways',\n",
    "    'Crossings',\n",
    "    'Motorway',\n",
    "    'Primary',\n",
    "    'Secondary',\n",
    "    'Tertiary',\n",
    "    'Street',\n",
    "    'Other',\n",
    "    'Bridge',\n",
    "    'PT',\n",
    "    'Rail',\n",
    "    'Subway']"
   ]
  },
  {
   "cell_type": "code",
   "execution_count": null,
   "metadata": {},
   "outputs": [],
   "source": [
    "fig, axes = plt.subplots(1, 2, figsize=(20, 8), sharey=True, dpi=300)\n",
    "sns.set(font_scale = .8)\n",
    "\n",
    "fig.suptitle('Horizontally stacked subplots')\n",
    "\n",
    "\n",
    "cbar_ax = fig.add_axes([.91, .15, .03, .7])\n",
    "\n",
    "sns.heatmap(bb, annot=True, fmt='.2f', xticklabels=labels_circulation_spaces, vmax=1., ax=axes[1], cmap='viridis', cbar_ax=cbar_ax)\n",
    "\n",
    "\n",
    "sns.heatmap(aa, annot=True, fmt='.2f', xticklabels=labels_circulation_spaces, vmax=1., ax=axes[0], cmap='viridis', cbar=False, cbar_ax=None)\n",
    "#axes[0].set_title('Accident Environment Types')\n",
    "axes[0].set_xticklabels(labels_circulation_spaces, fontsize=20, rotation=60, ha='right')\n",
    "axes[0].set_yticklabels([i for i in range(0,10)], fontsize=20,)\n",
    "\n",
    "sns.heatmap(bb, annot=True, fmt='.2f', xticklabels=labels_circulation_spaces, vmax=1., ax=axes[1], cmap='viridis', cbar=False, cbar_ax=None)\n",
    "#axes[1].set_title('City Environment Types')\n",
    "axes[1].set_xticklabels(labels_circulation_spaces, fontsize=20, rotation=60, ha='right')\n",
    "axes[1].set_yticklabels([i for i in range(0,10)], fontsize=20,)\n",
    "\n",
    "from matplotlib.transforms import ScaledTranslation\n",
    "dx, dy = 35, 0\n",
    "offset = ScaledTranslation(dx / fig.dpi, dy / fig.dpi, fig.dpi_scale_trans)\n",
    "\n",
    "# apply offset to all xticklabels\n",
    "for ax in axes.flat:\n",
    "    for label in ax.xaxis.get_majorticklabels():\n",
    "        label.set_transform(label.get_transform() + offset)"
   ]
  },
  {
   "cell_type": "code",
   "execution_count": null,
   "metadata": {},
   "outputs": [],
   "source": [
    "fig, axes = plt.subplots(1, 1, figsize=(15, 8), sharey=True, dpi=300)\n",
    "\n",
    "sns.heatmap(aa, annot=True, fmt='.2f', xticklabels=labels_circulation_spaces, vmax=1., cmap='viridis', cbar=False, cbar_ax=None,\n",
    "           annot_kws={\n",
    "                'fontsize': 16,\n",
    "                'fontweight': 'bold',\n",
    "            })\n",
    "#axes.set_title('Accident Environment Types')\n",
    "axes.set_xticklabels(labels_circulation_spaces, fontsize=20, rotation=60, ha='right');\n",
    "axes.set_yticklabels([i+1 for i in range(0,10)], fontsize=20,);"
   ]
  },
  {
   "cell_type": "code",
   "execution_count": null,
   "metadata": {},
   "outputs": [],
   "source": [
    "fig, axes = plt.subplots(1, 1, figsize=(15, 8), sharey=True, dpi=300)\n",
    "\n",
    "sns.heatmap(bb, annot=True, fmt='.2f', xticklabels=labels_circulation_spaces, vmax=1., cmap='viridis', cbar=False, cbar_ax=None,\n",
    "           annot_kws={\n",
    "                'fontsize': 16,\n",
    "                'fontweight': 'bold',\n",
    "            })\n",
    "#axes.set_title('Accident Environment Types')\n",
    "axes.set_xticklabels(labels_circulation_spaces, fontsize=20, rotation=60, ha='right');\n",
    "axes.set_yticklabels([i+1 for i in range(0,10)], fontsize=20,);"
   ]
  },
  {
   "cell_type": "markdown",
   "metadata": {
    "tags": []
   },
   "source": [
    "# Accidents"
   ]
  },
  {
   "cell_type": "code",
   "execution_count": null,
   "metadata": {},
   "outputs": [],
   "source": [
    "import matplotlib.colors as clrs"
   ]
  },
  {
   "cell_type": "code",
   "execution_count": null,
   "metadata": {
    "tags": []
   },
   "outputs": [],
   "source": [
    "marker_colors = [\n",
    "    'red',        # 0                   \n",
    "    'darkgreen',  # 1                   \n",
    "    'green',      # 2                   \n",
    "    'purple',     # 3                   \n",
    "    'orange',     # 4                   \n",
    "    'beige',      # 5                   \n",
    "    'pink',       # 6                   \n",
    "    'darkred',    # 7                   \n",
    "    'darkblue',   # 8                   \n",
    "    'blue',       # 9                   \n",
    "    'cadetblue',  # 10                   \n",
    "    'darkpurple', # 11                  \n",
    "    'white',      # 12                   \n",
    "    'pink',       # 13                   \n",
    "    'lightblue',  # 14                   \n",
    "    'lightgreen', # 15                   \n",
    "    'gray',       # 16                   \n",
    "    'black',      # 17                   \n",
    "    'lightgray']  # 18\n",
    "\n",
    "\n",
    "colormap = plt.cm.get_cmap('Spectral')\n",
    "marker_colors = [\n",
    "    colors.rgb2hex(colormap(0.95)), # 0\n",
    "    colors.rgb2hex(colormap(0.9)),  # 1\n",
    "    colors.rgb2hex(colormap(0.8)),  # 2\n",
    "    colors.rgb2hex(colormap(0.5)),  # 3\n",
    "    colors.rgb2hex(colormap(0.75)), # 4\n",
    "    colors.rgb2hex(colormap(0.1)),  # 5\n",
    "    colors.rgb2hex(colormap(0.25)), # 6\n",
    "    colors.rgb2hex(colormap(0.85)), # 7\n",
    "    colors.rgb2hex(colormap(0.3)),  # 8\n",
    "    colors.rgb2hex(colormap(0)),    # 9\n",
    "]\n",
    "\n",
    "m = folium.Map(location=[accidents['Latitude'].mean()+0.06, \n",
    "                         accidents['Longitude'].mean()+0.02],  \n",
    "               zoom_start=13, \n",
    "               tiles='CartoDB positron',\n",
    "               zoom_control=False,\n",
    "               scrollWheelZoom=False,\n",
    "               dragging=False,\n",
    "               height=600,\n",
    "               # tiles='OpenStreetMap'\n",
    "              )\n",
    "\n",
    "for cluster_i in [3,4,5,6,7,8,9,0,1,2]:\n",
    "    df = pd.DataFrame({\n",
    "            'lat':            accidents[yhat_25 == cluster_i]['Latitude'],\n",
    "            'lon':            accidents[yhat_25 == cluster_i]['Longitude'],\n",
    "            'marker_color' :  marker_colors[cluster_i],\n",
    "            'marker_color1' : accidents[yhat_25 == cluster_i].index,\n",
    "            #'index':          X_train[:5000, 12],\n",
    "        }\n",
    "    )\n",
    "\n",
    "    df.apply(lambda row: folium.Circle(location=[row[\"lat\"], \n",
    "                                                 row[\"lon\"]],\n",
    "                                             radius=15, \n",
    "                                             fill_color=row['marker_color'],\n",
    "                                             color     =row['marker_color'],\n",
    "                                             tooltip='Cluster: '+str(cluster_i)+'\\nIndex:'+str(row['marker_color1']), \n",
    "                                             popup='{}, {}'.format(row[\"lat\"], row[\"lon\"]),\n",
    "\n",
    "                                            ).add_to(m), axis=1)\n",
    "    \n",
    "# Add Legend\n",
    "legend_html = '''\n",
    "{% macro html(this, kwargs) %}\n",
    "<div style=\"\n",
    "    position: fixed; \n",
    "    top: 50px;\n",
    "    right: 50px;\n",
    "    width: 250px;\n",
    "    height: 200px;\n",
    "    z-index:9999;\n",
    "    font-size:14px;\n",
    "    \">\n",
    "'''\n",
    "for cluster_i in range(10):\n",
    "#for cluster_i in [3,4,5,6,7,8,9,0,1,2]:\n",
    "    legend_html += '''\n",
    "        <p><a style=\"color:{};font-size:100%;margin-right:20px;\">&diams;</a>Class {}</p>\n",
    "    '''.format(marker_colors[cluster_i], cluster_i+1)\n",
    "legend_html += '''\n",
    "</div>\n",
    "<div style=\"\n",
    "    position: fixed; \n",
    "    top: 50px;\n",
    "    right: 170px;\n",
    "    width: 150px;\n",
    "    height: 300px; \n",
    "    z-index:9998;\n",
    "    font-size:14px;\n",
    "    background-color: #ffffff;\n",
    "\n",
    "    opacity: 0.8;\n",
    "    \">\n",
    "</div>\n",
    "{% endmacro %}\n",
    "'''\n",
    "legend = branca.element.MacroElement()\n",
    "legend._template = branca.element.Template(legend_html)\n",
    "    \n",
    "m.get_root().add_child(legend)   \n",
    "m#.save(outfile=\"barcelona_points.html\")"
   ]
  },
  {
   "cell_type": "code",
   "execution_count": null,
   "metadata": {},
   "outputs": [],
   "source": []
  }
 ],
 "metadata": {
  "kernelspec": {
   "display_name": "Python 3 (ipykernel)",
   "language": "python",
   "name": "python3"
  },
  "language_info": {
   "codemirror_mode": {
    "name": "ipython",
    "version": 3
   },
   "file_extension": ".py",
   "mimetype": "text/x-python",
   "name": "python",
   "nbconvert_exporter": "python",
   "pygments_lexer": "ipython3",
   "version": "3.10.8"
  },
  "toc-autonumbering": false,
  "toc-showcode": false,
  "toc-showmarkdowntxt": false
 },
 "nbformat": 4,
 "nbformat_minor": 4
}
